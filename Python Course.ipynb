{
 "cells": [
  {
   "cell_type": "code",
   "execution_count": null,
   "id": "a2fa6d98-9885-4fe0-ab69-3fc804f2dbfb",
   "metadata": {},
   "outputs": [],
   "source": [
    "num = 12\n",
    "for i in range(1, 11):\n",
    "   print(num, 'x', i, '=', num*i)\n"
   ]
  },
  {
   "cell_type": "code",
   "execution_count": null,
   "id": "58341379-49bb-4cbe-8fc7-2c63645f9a7e",
   "metadata": {},
   "outputs": [],
   "source": [
    "#h1 Data Science Tools and Ecosystem\n"
   ]
  },
  {
   "cell_type": "markdown",
   "id": "d4fd7a63-9e67-42ab-8cac-ae30c65d3289",
   "metadata": {},
   "source": [
    "#h1 Some of the popular languages that Data Scientists use are:\n",
    "list_1=[R,Python,SQL]\n"
   ]
  },
  {
   "cell_type": "code",
   "execution_count": null,
   "id": "8a3fa692-a1d1-4838-a194-4ba88b7ef8ef",
   "metadata": {},
   "outputs": [],
   "source": [
    "#Datascience Libraries\n",
    "matplotlib\n",
    "pyplot\n",
    "ggplot\n",
    "plotty\n",
    "pandas\n",
    "numpy"
   ]
  },
  {
   "cell_type": "code",
   "execution_count": null,
   "id": "456ff1c9-e7b3-4648-9fd3-e38bcaa9922a",
   "metadata": {},
   "outputs": [],
   "source": [
    "#DSTOOLS\n",
    "Scikit\n",
    "Selenium\n",
    "Pandas\n",
    "Tensorflow\n",
    "Matplotlib"
   ]
  },
  {
   "cell_type": "code",
   "execution_count": null,
   "id": "b318f38a-b928-4b6e-9cb4-f442a9ffbf50",
   "metadata": {},
   "outputs": [],
   "source": [
    "#h1 Arithmetic Opertors\n",
    "*--->Multiply\n",
    "+--->Addition\n",
    "- -----> Subtraction\n",
    "% ------->Modulo\n",
    "/ ------->Division"
   ]
  },
  {
   "cell_type": "code",
   "execution_count": null,
   "id": "a682846f-c496-4c39-bf91-0d1d6dda84d8",
   "metadata": {},
   "outputs": [],
   "source": [
    "#Below are a few examples of evaluating arithmetic expressions in Python.\n",
    "N=int(input())\n",
    "K=int(input())\n",
    "print(K+N)\n",
    "print(K*N)\n",
    "print(K/N)\n",
    "print(K%N)\n",
    "\n"
   ]
  },
  {
   "cell_type": "code",
   "execution_count": 8,
   "id": "1e044f81-d4b5-41f6-ac13-df12e4b9b42e",
   "metadata": {},
   "outputs": [
    {
     "name": "stdin",
     "output_type": "stream",
     "text": [
      " 200\n"
     ]
    },
    {
     "name": "stdout",
     "output_type": "stream",
     "text": [
      "No of hours =  3.3333333333333335\n"
     ]
    }
   ],
   "source": [
    "n=int(input())\n",
    "Hour=(n/60)\n",
    "print(\"No of hours = \",Hour)"
   ]
  },
  {
   "cell_type": "markdown",
   "id": "b0c69f4f-91a6-4ae2-8140-fba7764ca6e2",
   "metadata": {},
   "source": [
    "#Objective\n",
    "In this final assignment we covered the following:\n",
    "Creating a Jupyter Notebook\n",
    "Inserting code and markdown cells\n",
    "Sharing our notebook through GitHub"
   ]
  },
  {
   "cell_type": "markdown",
   "id": "264560c9-c3d2-46dc-a4c8-ca6a7a537671",
   "metadata": {},
   "source": [
    "###h3 Creating a markdown cell to indicate the Author's name\n",
    "Author : Raja Vardhan Reddy\n"
   ]
  }
 ],
 "metadata": {
  "kernelspec": {
   "display_name": "Python 3 (ipykernel)",
   "language": "python",
   "name": "python3"
  },
  "language_info": {
   "codemirror_mode": {
    "name": "ipython",
    "version": 3
   },
   "file_extension": ".py",
   "mimetype": "text/x-python",
   "name": "python",
   "nbconvert_exporter": "python",
   "pygments_lexer": "ipython3",
   "version": "3.12.7"
  }
 },
 "nbformat": 4,
 "nbformat_minor": 5
}
