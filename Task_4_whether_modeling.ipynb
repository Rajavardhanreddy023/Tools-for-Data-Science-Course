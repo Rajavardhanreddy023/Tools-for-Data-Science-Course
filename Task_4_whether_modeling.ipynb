{
  "nbformat": 4,
  "nbformat_minor": 0,
  "metadata": {
    "colab": {
      "provenance": [],
      "include_colab_link": true
    },
    "kernelspec": {
      "name": "python3",
      "display_name": "Python 3"
    },
    "language_info": {
      "name": "python"
    }
  },
  "cells": [
    {
      "cell_type": "markdown",
      "metadata": {
        "id": "view-in-github",
        "colab_type": "text"
      },
      "source": [
        "<a href=\"https://colab.research.google.com/github/Rajavardhanreddy023/Tools-for-Data-Science-Course/blob/main/Task_4_whether_modeling.ipynb\" target=\"_parent\"><img src=\"https://colab.research.google.com/assets/colab-badge.svg\" alt=\"Open In Colab\"/></a>"
      ]
    },
    {
      "cell_type": "markdown",
      "source": [
        "# Whether Modeling using Quadratic Solution\n",
        "`N.Jayanth Kumar`\n",
        "\n",
        "`Hu22csen0101734`"
      ],
      "metadata": {
        "id": "VhK5AyD9Qk7r"
      }
    },
    {
      "cell_type": "code",
      "source": [
        "#Evaluation Function :\n",
        "\n",
        "def Temperature_modeling(a,b,c,time):\n",
        "  temp  = a*time**2+b*time+c\n",
        "  return temp"
      ],
      "metadata": {
        "id": "ZPVXdpVNSXkw"
      },
      "execution_count": 5,
      "outputs": []
    },
    {
      "cell_type": "code",
      "source": [
        "# Version 1: Hardcoding the variables:\n",
        "\n",
        "a=1\n",
        "b=2\n",
        "c=3\n",
        "time = 4\n",
        "temp = Temperature_modeling(a,b,c,time)\n",
        "print(f\"the Temperature at time {time} is {temp}\")"
      ],
      "metadata": {
        "colab": {
          "base_uri": "https://localhost:8080/"
        },
        "id": "eOa5LI46T0xg",
        "outputId": "bf593ab6-bfd3-4eab-c1e0-9711f6a80655"
      },
      "execution_count": 6,
      "outputs": [
        {
          "output_type": "stream",
          "name": "stdout",
          "text": [
            "the Temperature at time 4 is 27\n"
          ]
        }
      ]
    },
    {
      "cell_type": "code",
      "source": [
        "# Version 2 : Keyboard Input:\n",
        "temp = Temperature_modeling(float(input('Enter a:')),float(input('Enter b:')),float(input('Enter c:')),int(input('Enter Time:')))\n",
        "print(f\"the Temperature at time {time} is {temp}\")"
      ],
      "metadata": {
        "colab": {
          "base_uri": "https://localhost:8080/"
        },
        "id": "JHP6nYSvUSBo",
        "outputId": "8769ba67-0fae-48a5-95a0-53b2487e3e52"
      },
      "execution_count": 3,
      "outputs": [
        {
          "output_type": "stream",
          "name": "stdout",
          "text": [
            "Enter a:1\n",
            "Enter b:2\n",
            "Enter c:3\n",
            "Enter Time:4\n",
            "the Temperature at time 4 is 27.0\n"
          ]
        }
      ]
    },
    {
      "cell_type": "code",
      "source": [
        "# Version 3: Single Input from 4\n",
        "the text file:\n",
        "with open('whether_single.txt','r') as files:\n",
        "  file = files.readline();\n",
        "  a,b,c,time = file.split()\n",
        "  a = float(a)\n",
        "  b= float(b)\n",
        "  c = float(c)\n",
        "  time = int(time)\n",
        "  temp = Temperature_modeling(a,b,c,time)\n",
        "  print(f'The Temperature at time {time} is {temp}')"
      ],
      "metadata": {
        "colab": {
          "base_uri": "https://localhost:8080/",
          "height": 219
        },
        "id": "ZNa_lUm8VMvm",
        "outputId": "01b27a91-45a1-4a45-c512-b2ec254f9699"
      },
      "execution_count": 4,
      "outputs": [
        {
          "output_type": "error",
          "ename": "FileNotFoundError",
          "evalue": "[Errno 2] No such file or directory: 'whether_single.txt'",
          "traceback": [
            "\u001b[0;31m---------------------------------------------------------------------------\u001b[0m",
            "\u001b[0;31mFileNotFoundError\u001b[0m                         Traceback (most recent call last)",
            "\u001b[0;32m<ipython-input-4-b33c8050eb52>\u001b[0m in \u001b[0;36m<cell line: 2>\u001b[0;34m()\u001b[0m\n\u001b[1;32m      1\u001b[0m \u001b[0;31m# Version 3: Single Input from the text file:\u001b[0m\u001b[0;34m\u001b[0m\u001b[0;34m\u001b[0m\u001b[0m\n\u001b[0;32m----> 2\u001b[0;31m \u001b[0;32mwith\u001b[0m \u001b[0mopen\u001b[0m\u001b[0;34m(\u001b[0m\u001b[0;34m'whether_single.txt'\u001b[0m\u001b[0;34m,\u001b[0m\u001b[0;34m'r'\u001b[0m\u001b[0;34m)\u001b[0m \u001b[0;32mas\u001b[0m \u001b[0mfiles\u001b[0m\u001b[0;34m:\u001b[0m\u001b[0;34m\u001b[0m\u001b[0;34m\u001b[0m\u001b[0m\n\u001b[0m\u001b[1;32m      3\u001b[0m   \u001b[0mfile\u001b[0m \u001b[0;34m=\u001b[0m \u001b[0mfiles\u001b[0m\u001b[0;34m.\u001b[0m\u001b[0mreadline\u001b[0m\u001b[0;34m(\u001b[0m\u001b[0;34m)\u001b[0m\u001b[0;34m;\u001b[0m\u001b[0;34m\u001b[0m\u001b[0;34m\u001b[0m\u001b[0m\n\u001b[1;32m      4\u001b[0m   \u001b[0ma\u001b[0m\u001b[0;34m,\u001b[0m\u001b[0mb\u001b[0m\u001b[0;34m,\u001b[0m\u001b[0mc\u001b[0m\u001b[0;34m,\u001b[0m\u001b[0mtime\u001b[0m \u001b[0;34m=\u001b[0m \u001b[0mfile\u001b[0m\u001b[0;34m.\u001b[0m\u001b[0msplit\u001b[0m\u001b[0;34m(\u001b[0m\u001b[0;34m)\u001b[0m\u001b[0;34m\u001b[0m\u001b[0;34m\u001b[0m\u001b[0m\n\u001b[1;32m      5\u001b[0m   \u001b[0ma\u001b[0m \u001b[0;34m=\u001b[0m \u001b[0mfloat\u001b[0m\u001b[0;34m(\u001b[0m\u001b[0ma\u001b[0m\u001b[0;34m)\u001b[0m\u001b[0;34m\u001b[0m\u001b[0;34m\u001b[0m\u001b[0m\n",
            "\u001b[0;31mFileNotFoundError\u001b[0m: [Errno 2] No such file or directory: 'whether_single.txt'"
          ]
        }
      ]
    },
    {
      "cell_type": "code",
      "source": [
        "# Version 4: Multiple Input from the text file\n",
        "with open('whether_multiple.txt','r') as files:\n",
        "  for file in files:\n",
        "    a,b,c,time = file.strip().split()\n",
        "    a = float(a)\n",
        "    b=float(b)\n",
        "    c = float(c)\n",
        "    time = int(time)\n",
        "\n",
        "    temp = Temperature_modeling(a,b,c,time)\n",
        "    print(f'The Temperature at time {time} is {temp}')"
      ],
      "metadata": {
        "id": "y-hRzbbxZQ3f"
      },
      "execution_count": null,
      "outputs": []
    }
  ]
}